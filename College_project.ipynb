{
  "nbformat": 4,
  "nbformat_minor": 0,
  "metadata": {
    "colab": {
      "name": "College_project.ipynb",
      "provenance": [],
      "mount_file_id": "1EsKqgSzg83Cs87xXg0_8JE4bO4_FK5cX",
      "authorship_tag": "ABX9TyNGwXXmpdtf+MqsRVFr0ja9",
      "include_colab_link": true
    },
    "kernelspec": {
      "name": "python3",
      "display_name": "Python 3"
    },
    "language_info": {
      "name": "python"
    },
    "accelerator": "GPU"
  },
  "cells": [
    {
      "cell_type": "markdown",
      "metadata": {
        "id": "view-in-github",
        "colab_type": "text"
      },
      "source": [
        "<a href=\"https://colab.research.google.com/github/OhJunSub/Collge_Project/blob/main/College_project.ipynb\" target=\"_parent\"><img src=\"https://colab.research.google.com/assets/colab-badge.svg\" alt=\"Open In Colab\"/></a>"
      ]
    },
    {
      "cell_type": "code",
      "source": [
        "!git clone https://github.com/deepinx/deep-face-alignment.git"
      ],
      "metadata": {
        "id": "NFVTSD02I4fI",
        "outputId": "1b7902d4-c3cb-4c49-c0fa-e83ce032d278",
        "colab": {
          "base_uri": "https://localhost:8080/"
        }
      },
      "execution_count": null,
      "outputs": [
        {
          "output_type": "stream",
          "name": "stdout",
          "text": [
            "Cloning into 'deep-face-alignment'...\n",
            "remote: Enumerating objects: 413, done.\u001b[K\n",
            "remote: Total 413 (delta 0), reused 0 (delta 0), pack-reused 413\u001b[K\n",
            "Receiving objects: 100% (413/413), 16.39 MiB | 27.28 MiB/s, done.\n",
            "Resolving deltas: 100% (236/236), done.\n"
          ]
        }
      ]
    }
  ]
}